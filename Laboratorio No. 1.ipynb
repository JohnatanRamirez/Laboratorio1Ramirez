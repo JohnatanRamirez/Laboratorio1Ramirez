{
 "cells": [
  {
   "cell_type": "markdown",
   "metadata": {},
   "source": [
    "### Johnatan Josué Ramírez Santiago\n",
    "### Carné: 19001825\n",
    "\n",
    "# --------------------     Laborotorio No. 1      --------------------"
   ]
  },
  {
   "cell_type": "code",
   "execution_count": 2,
   "metadata": {},
   "outputs": [
    {
     "name": "stdout",
     "output_type": "stream",
     "text": [
      "Requirement already satisfied: pillow in c:\\users\\johnatan ramirez\\anaconda3\\lib\\site-packages (9.4.0)\n",
      "Note: you may need to restart the kernel to use updated packages.\n"
     ]
    }
   ],
   "source": [
    "pip install pillow"
   ]
  },
  {
   "cell_type": "markdown",
   "metadata": {},
   "source": [
    "# Inciso 1"
   ]
  },
  {
   "cell_type": "code",
   "execution_count": 36,
   "metadata": {},
   "outputs": [
    {
     "name": "stdout",
     "output_type": "stream",
     "text": [
      "<PIL.JpegImagePlugin.JpegImageFile image mode=RGB size=276x183 at 0x255349EF210>\n"
     ]
    }
   ],
   "source": [
    "from PIL import Image\n",
    "import numpy as np\n",
    "\n",
    "def aplicar_filtro_color(imagen, color):\n",
    "    img_array = np.array(imagen)\n",
    "    \n",
    "# Se creo una copia del array\n",
    "    resultado_array = np.zeros_like(img_array)\n",
    "    \n",
    "# Filtros de color\n",
    "    if color == 1:\n",
    "\n",
    "        # Azul\n",
    "        resultado_array[..., 2] = img_array[..., 2]\n",
    "    elif color == 2:\n",
    "\n",
    "        # Verde\n",
    "        resultado_array[..., 1] = img_array[..., 1]\n",
    "    elif color == 3:\n",
    "\n",
    "        # Rojo\n",
    "        resultado_array[..., 0] = img_array[..., 0]\n",
    "    elif color == 10:\n",
    "\n",
    "        # Rojo y verde\n",
    "        resultado_array[..., 0] = img_array[..., 0]\n",
    "        resultado_array[..., 1] = img_array[..., 1]\n",
    "    elif color == 20:\n",
    "\n",
    "        # Verde y azul\n",
    "        resultado_array[..., 1] = img_array[..., 1]\n",
    "        resultado_array[..., 2] = img_array[..., 2]\n",
    "    elif color == 30:\n",
    "\n",
    "        # Azul y rojo\n",
    "        resultado_array[..., 0] = img_array[..., 0]\n",
    "        resultado_array[..., 2] = img_array[..., 2]\n",
    "    else:\n",
    "        raise ValueError(\"Valor de color no soportado.\")\n",
    "\n",
    "    resultado_imagen = Image.fromarray(resultado_array)\n",
    "    \n",
    "    return resultado_imagen\n",
    "\n",
    "# ---------------------------- MOSTRAR IMAGEN ----------------------------------------------\n",
    "\n",
    "if __name__ == \"__main__\":\n",
    "    imagen_inciso_1 = Image.open(\"Imagen1.jpg\")\n",
    "    \n",
    "    # Filtro de color ingresado por el usuario\n",
    "    color = int(input(\"Ingrese un número entero: \"))\n",
    "    \n",
    "    imagen_filtrada = aplicar_filtro_color(imagen_inciso_1, color)\n",
    "    print(imagen_inciso_1)\n",
    "    \n",
    "    # Mostrar imagen\n",
    "    imagen_filtrada.show()"
   ]
  },
  {
   "cell_type": "markdown",
   "metadata": {},
   "source": [
    "# Inciso 2"
   ]
  },
  {
   "cell_type": "code",
   "execution_count": 1,
   "metadata": {},
   "outputs": [
    {
     "name": "stderr",
     "output_type": "stream",
     "text": [
      "C:\\Users\\Johnatan Ramirez\\AppData\\Local\\Temp\\ipykernel_13072\\2402295444.py:9: MatplotlibDeprecationWarning: The get_cmap function was deprecated in Matplotlib 3.7 and will be removed two minor releases later. Use ``matplotlib.colormaps[name]`` or ``matplotlib.colormaps.get_cmap(obj)`` instead.\n",
      "  colormap = cm.get_cmap('viridis')\n"
     ]
    }
   ],
   "source": [
    "from PIL import Image\n",
    "import numpy as np\n",
    "import matplotlib.pyplot as plt\n",
    "import matplotlib.cm as cm\n",
    "\n",
    "def aplicar_mapa_colores(imagen_gris):\n",
    "    img_array = np.array(imagen_gris)\n",
    "    \n",
    "    colormap = cm.get_cmap('viridis')\n",
    "    img_color = colormap(img_array / 255.0)  # Normalizar el rango de 0 a 1\n",
    "    img_color = (img_color[..., :3] * 255).astype(np.uint8)  # Convertir a 8 bits por canal\n",
    "    imagen_color = Image.fromarray(img_color)\n",
    "    \n",
    "    return imagen_color\n",
    "\n",
    "# -------------------------------- CONVERSION DE IMAGENES --------------------------------\n",
    "if __name__ == \"__main__\":\n",
    "\n",
    "    # Cargamos las imagenes en escala de grises\n",
    "    imagen_gris = Image.open(\"imagen2_salida_gray_verde.jpg\").convert('L')\n",
    "    imagen_gris2 = Image.open(\"imagen2_salida_gray_rojo.jpg\").convert('L')\n",
    "    imagen_gris3 = Image.open(\"imagen2_salida_gray_azul.jpg\").convert('L')\n",
    "    \n",
    "    # Aplicamos el mapa de colores\n",
    "    imagen_color = aplicar_mapa_colores(imagen_gris)\n",
    "    imagen_color2 = aplicar_mapa_colores(imagen_gris2)\n",
    "    imagen_color3 = aplicar_mapa_colores(imagen_gris3)\n",
    "\n",
    "    # Mostrar las imagenes con colores\n",
    "    imagen_color.show()\n",
    "\n",
    "    # Exportamos las imagenes\n",
    "    imagen_color.save(\"imagen_colorizada1.jpg\")"
   ]
  },
  {
   "cell_type": "markdown",
   "metadata": {},
   "source": [
    "# Inciso 3"
   ]
  },
  {
   "cell_type": "code",
   "execution_count": 2,
   "metadata": {},
   "outputs": [],
   "source": [
    "from PIL import Image\n",
    "import numpy as np\n",
    "\n",
    "def crear_imagenes_grises_por_canal(imagen):\n",
    "    img_array = np.array(imagen)\n",
    "    \n",
    "    # Creamos una imagen en escala de grises para cada canal\n",
    "    canales = ['rojo', 'verde', 'azul']\n",
    "    imagenes_grises = {}\n",
    "    \n",
    "    for i, canal in enumerate(canales):\n",
    "        gris_array = np.zeros_like(img_array)\n",
    "        gris_array[..., i] = img_array[..., i]\n",
    "\n",
    "        imagen_gris = Image.fromarray(gris_array)\n",
    "        imagen_gris = imagen_gris.convert('L')  # Convertimos a escala de grises\n",
    "        imagenes_grises[canal] = imagen_gris\n",
    "    \n",
    "    return imagenes_grises\n",
    "\n",
    "# -----------------------------------  RESULTADO ----------------------------------------------------\n",
    "if __name__ == \"__main__\":\n",
    "    # Cargar una imagen a color\n",
    "    imagen = Image.open(\"Imagen1.jpg\")\n",
    "    \n",
    "    # Creamos las imagenes en escala de grises por canal\n",
    "    imagenes_grises = crear_imagenes_grises_por_canal(imagen)\n",
    "    \n",
    "    # Mostramos y guardamos las imagenes generadas\n",
    "    for canal, imagen_gris in imagenes_grises.items():\n",
    "        imagen_gris.show(title=f\"Escala de Grises - Canal {canal}\")\n",
    "        # Guardamos imagen\n",
    "        imagen_gris.save(f\"imagen_gris_{canal}.jpg\")"
   ]
  },
  {
   "cell_type": "markdown",
   "metadata": {},
   "source": [
    "# Inciso 4"
   ]
  },
  {
   "cell_type": "code",
   "execution_count": 3,
   "metadata": {},
   "outputs": [
    {
     "data": {
      "image/png": "[encoded data removed]",
      "text/plain": [
       "<Figure size 1200x800 with 4 Axes>"
      ]
     },
     "metadata": {},
     "output_type": "display_data"
    }
   ],
   "source": [
    "import numpy as np\n",
    "import matplotlib.pyplot as plt\n",
    "\n",
    "imagen = Image.open(\"Imagen_2.jpg\")\n",
    "\n",
    "def calcular_histogramas(imagen):\n",
    "\n",
    "    if not isinstance(imagen, np.ndarray):\n",
    "        imagen = np.array(imagen)\n",
    "\n",
    "    filas, columnas, canales = imagen.shape\n",
    "    grises = np.mean(imagen, axis=2).astype(np.uint8)\n",
    "\n",
    "    # Listas\n",
    "    hist_rojo = [0] * 256\n",
    "    hist_verde = [0] * 256\n",
    "    hist_azul = [0] * 256\n",
    "    hist_gris = [0] * 256\n",
    "\n",
    "    # Histogramas\n",
    "    for i in range(filas):\n",
    "        for j in range(columnas):\n",
    "            hist_rojo[imagen[i, j, 0]] += 1\n",
    "            hist_verde[imagen[i, j, 1]] += 1\n",
    "            hist_azul[imagen[i, j, 2]] += 1\n",
    "            hist_gris[grises[i, j]] += 1\n",
    "\n",
    "    # Medias\n",
    "    media_rojo = np.mean(imagen[:, :, 0])\n",
    "    media_verde = np.mean(imagen[:, :, 1])\n",
    "    media_azul = np.mean(imagen[:, :, 2])\n",
    "    media_gris = np.mean(grises)\n",
    "\n",
    "    # Figuras y ejes\n",
    "    fig, axs = plt.subplots(2, 2, figsize=(12, 8))\n",
    "\n",
    "    # Creamos los Histogramas\n",
    "    axs[0, 0].bar(range(256), hist_rojo)\n",
    "    axs[0, 0].axvline(x=media_rojo, color='r', linestyle='--')\n",
    "    axs[0, 0].set_title('Histograma del canal rojo')\n",
    "\n",
    "    axs[0, 1].bar(range(256), hist_verde)\n",
    "    axs[0, 1].axvline(x=media_verde, color='g', linestyle='--')\n",
    "    axs[0, 1].set_title('Histograma del canal verde')\n",
    "\n",
    "    axs[1, 0].bar(range(256), hist_azul)\n",
    "    axs[1, 0].axvline(x=media_azul, color='b', linestyle='--')\n",
    "    axs[1, 0].set_title('Histograma del canal azul')\n",
    "\n",
    "    axs[1, 1].bar(range(256), hist_gris)\n",
    "    axs[1, 1].axvline(x=media_gris, color='k', linestyle='--')\n",
    "    axs[1, 1].set_title('Histograma de escala de grises')\n",
    "\n",
    "    plt.show()\n",
    "\n",
    "calcular_histogramas(imagen)"
   ]
  },
  {
   "cell_type": "markdown",
   "metadata": {},
   "source": [
    "# Inciso 5"
   ]
  },
  {
   "cell_type": "markdown",
   "metadata": {},
   "source": [
    "##### Es una técnica utilizada en el procesamiento de imágenes para convertir una imagen a color en una imagen en escala de grises. A diferencia del promedio aritmético simple, este método asigna pesos diferentes a los componentes de color rojo, verde y azul (RGB) para obtener una representación más precisa de la luminosidad percibida por el ojo humano.\n",
    "\n",
    "### ¿Por qué ponderar?\n",
    "##### Sensibilidad del ojo humano: El ojo humano es más sensible a ciertas frecuencias de luz que a otras. Por ejemplo, es más sensible al verde que al rojo o al azul.\n",
    "\n",
    "### Aplicaciones: \n",
    "##### La elección de los pesos puede variar dependiendo de la aplicación específica. Por ejemplo, en imágenes médicas, se pueden utilizar pesos que realcen ciertos detalles."
   ]
  },
  {
   "cell_type": "code",
   "execution_count": 2,
   "metadata": {},
   "outputs": [],
   "source": [
    "def escala_grises_ponderada(imagen, pesos=[0.299, 0.587, 0.114]):\n",
    "\n",
    "  # Verificamos que la imagen sea de tipo flotante\n",
    "  if imagen.dtype != np.float32:\n",
    "    imagen = imagen.astype(np.float32) / 255.0\n",
    "\n",
    "  # Aplicamos los pesos\n",
    "  grises = np.dot(imagen, pesos)\n",
    "\n",
    "  # Escalamos los valores a [0, 1]\n",
    "  grises *= 255\n",
    "  grises = np.clip(grises, 0, 255)\n",
    "  grises = grises.astype(np.uint8)\n",
    "\n",
    "  return grises"
   ]
  },
  {
   "cell_type": "markdown",
   "metadata": {},
   "source": [
    "# Ejercicio 6"
   ]
  },
  {
   "cell_type": "markdown",
   "metadata": {},
   "source": [
    "##### El espacio de color HSV (Hue, Saturation, Value), también conocido como HSB (Hue, Saturation, Brightness), es una representación no lineal del modelo de color RGB. A diferencia de RGB, que se basa en los colores primarios aditivos, HSV se acerca más a cómo los humanos percibimos el color.\n",
    "\n",
    "##### Tono (Hue): Corresponde al color en sí, expresado como un ángulo en un círculo de colores. El rojo es 0°, el verde 120°, el azul 240°, y así sucesivamente.\n",
    "##### Saturación (Saturation): Indica la pureza o intensidad del color. Un valor de saturación bajo significa un color más grisáceo o desaturado.\n",
    "##### Valor (Value) o Brillo (Brightness): Representa la luminosidad o intensidad general del color. Un valor bajo significa un color oscuro, mientras que un valor alto significa un color claro.\n",
    "\n",
    "### Mapeando Colores de RGB a HSV\n",
    "##### La conversión de RGB a HSV es un proceso matemático un poco complejo, pero la idea principal es la siguiente:\n",
    "\n",
    "##### Valor (V): El valor máximo de los componentes RGB de un píxel determina el valor V. Esencialmente, es el canal más brillante en el píxel.\n",
    "##### Saturación (S): Se calcula la diferencia entre el valor máximo y el mínimo de los componentes RGB. Una diferencia grande indica un color más saturado.\n",
    "##### Tono (H): Se determina en función de las relaciones entre los componentes RGB. Por ejemplo, si el rojo es el componente más grande, el tono estará cerca de 0°.\n",
    "\n",
    "### ¿Por qué usar HSV?\n",
    "##### Intuitivo: Los componentes de HSV son más cercanos a cómo los humanos percibimos el color.\n",
    "##### Manipulación de colores: Es más fácil ajustar la luminosidad, saturación y tono de una imagen en el espacio HSV.\n",
    "##### Aplicaciones: Se utiliza en muchas áreas, como edición de imágenes, visión por computadora y gráficos por computadora."
   ]
  }
 ],
 "metadata": {
  "kernelspec": {
   "display_name": "base",
   "language": "python",
   "name": "python3"
  },
  "language_info": {
   "codemirror_mode": {
    "name": "ipython",
    "version": 3
   },
   "file_extension": ".py",
   "mimetype": "text/x-python",
   "name": "python",
   "nbconvert_exporter": "python",
   "pygments_lexer": "ipython3",
   "version": "3.11.5"
  }
 },
 "nbformat": 4,
 "nbformat_minor": 2
}
